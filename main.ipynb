{
 "cells": [
  {
   "cell_type": "code",
   "execution_count": 75,
   "id": "d933d5d7-6294-483d-aea1-029df5bba0b7",
   "metadata": {},
   "outputs": [],
   "source": [
    "import pandas as pd\n",
    "import numpy as np\n",
    "\n",
    "import scipy.stats as stats\n",
    "from scipy.stats import shapiro\n",
    "\n",
    "import matplotlib.pyplot as plt\n",
    "import seaborn as sns\n",
    "\n",
    "import warnings\n",
    "warnings.filterwarnings('ignore')\n",
    "\n",
    "import Bio\n",
    "from Bio import SeqIO"
   ]
  },
  {
   "cell_type": "code",
   "execution_count": 28,
   "id": "ca5e4497-76ca-4a4e-ae88-060809475084",
   "metadata": {},
   "outputs": [
    {
     "data": {
      "text/html": [
       "<div>\n",
       "<style scoped>\n",
       "    .dataframe tbody tr th:only-of-type {\n",
       "        vertical-align: middle;\n",
       "    }\n",
       "\n",
       "    .dataframe tbody tr th {\n",
       "        vertical-align: top;\n",
       "    }\n",
       "\n",
       "    .dataframe thead th {\n",
       "        text-align: right;\n",
       "    }\n",
       "</style>\n",
       "<table border=\"1\" class=\"dataframe\">\n",
       "  <thead>\n",
       "    <tr style=\"text-align: right;\">\n",
       "      <th></th>\n",
       "      <th>year</th>\n",
       "      <th>month</th>\n",
       "      <th>cases</th>\n",
       "      <th>death</th>\n",
       "      <th>calculated_death</th>\n",
       "      <th>officcial_death_per_100k</th>\n",
       "      <th>calculated_death_per_100k</th>\n",
       "      <th>cases_per_100k</th>\n",
       "    </tr>\n",
       "  </thead>\n",
       "  <tbody>\n",
       "    <tr>\n",
       "      <th>0</th>\n",
       "      <td>2020</td>\n",
       "      <td>2</td>\n",
       "      <td>817</td>\n",
       "      <td>4</td>\n",
       "      <td>192</td>\n",
       "      <td>0.030534</td>\n",
       "      <td>1.465649</td>\n",
       "      <td>6.236641</td>\n",
       "    </tr>\n",
       "    <tr>\n",
       "      <th>1</th>\n",
       "      <td>2020</td>\n",
       "      <td>3</td>\n",
       "      <td>47609</td>\n",
       "      <td>475</td>\n",
       "      <td>-189</td>\n",
       "      <td>3.625954</td>\n",
       "      <td>-1.442748</td>\n",
       "      <td>363.427481</td>\n",
       "    </tr>\n",
       "    <tr>\n",
       "      <th>2</th>\n",
       "      <td>2020</td>\n",
       "      <td>4</td>\n",
       "      <td>125071</td>\n",
       "      <td>1775</td>\n",
       "      <td>1904</td>\n",
       "      <td>13.549618</td>\n",
       "      <td>14.534351</td>\n",
       "      <td>954.740458</td>\n",
       "    </tr>\n",
       "    <tr>\n",
       "      <th>3</th>\n",
       "      <td>2020</td>\n",
       "      <td>5</td>\n",
       "      <td>46574</td>\n",
       "      <td>1484</td>\n",
       "      <td>5865</td>\n",
       "      <td>11.328244</td>\n",
       "      <td>44.770992</td>\n",
       "      <td>355.526718</td>\n",
       "    </tr>\n",
       "    <tr>\n",
       "      <th>4</th>\n",
       "      <td>2020</td>\n",
       "      <td>6</td>\n",
       "      <td>19244</td>\n",
       "      <td>683</td>\n",
       "      <td>3894</td>\n",
       "      <td>5.213740</td>\n",
       "      <td>29.725191</td>\n",
       "      <td>146.900763</td>\n",
       "    </tr>\n",
       "  </tbody>\n",
       "</table>\n",
       "</div>"
      ],
      "text/plain": [
       "   year  month   cases  death  calculated_death  officcial_death_per_100k  \\\n",
       "0  2020      2     817      4               192                  0.030534   \n",
       "1  2020      3   47609    475              -189                  3.625954   \n",
       "2  2020      4  125071   1775              1904                 13.549618   \n",
       "3  2020      5   46574   1484              5865                 11.328244   \n",
       "4  2020      6   19244    683              3894                  5.213740   \n",
       "\n",
       "   calculated_death_per_100k  cases_per_100k  \n",
       "0                   1.465649        6.236641  \n",
       "1                  -1.442748      363.427481  \n",
       "2                  14.534351      954.740458  \n",
       "3                  44.770992      355.526718  \n",
       "4                  29.725191      146.900763  "
      ]
     },
     "execution_count": 28,
     "metadata": {},
     "output_type": "execute_result"
    }
   ],
   "source": [
    "moscow = pd.read_csv('Moscow_data_official.csv', sep=';', decimal=',')\n",
    "moscow.drop('cases.1', axis=1, inplace=True)\n",
    "moscow.head()"
   ]
  },
  {
   "cell_type": "code",
   "execution_count": 29,
   "id": "4874ba83-d04f-421a-8ba9-b2c99b11c87b",
   "metadata": {},
   "outputs": [],
   "source": [
    "def population(row):\n",
    "    if row['year'] == 2020:\n",
    "        return 12678000\n",
    "    elif row['year'] == 2021:\n",
    "        return 12655000\n",
    "    else:\n",
    "        return 13015000"
   ]
  },
  {
   "cell_type": "code",
   "execution_count": 48,
   "id": "6a45ff5c-9fca-4886-9f48-f2bfc1257650",
   "metadata": {},
   "outputs": [
    {
     "data": {
      "text/html": [
       "<div>\n",
       "<style scoped>\n",
       "    .dataframe tbody tr th:only-of-type {\n",
       "        vertical-align: middle;\n",
       "    }\n",
       "\n",
       "    .dataframe tbody tr th {\n",
       "        vertical-align: top;\n",
       "    }\n",
       "\n",
       "    .dataframe thead th {\n",
       "        text-align: right;\n",
       "    }\n",
       "</style>\n",
       "<table border=\"1\" class=\"dataframe\">\n",
       "  <thead>\n",
       "    <tr style=\"text-align: right;\">\n",
       "      <th></th>\n",
       "      <th>year</th>\n",
       "      <th>month</th>\n",
       "      <th>cases</th>\n",
       "      <th>death</th>\n",
       "      <th>calculated_death</th>\n",
       "      <th>officcial_death_per_100k</th>\n",
       "      <th>calculated_death_per_100k</th>\n",
       "      <th>cases_per_100k</th>\n",
       "      <th>population</th>\n",
       "    </tr>\n",
       "  </thead>\n",
       "  <tbody>\n",
       "    <tr>\n",
       "      <th>0</th>\n",
       "      <td>2020</td>\n",
       "      <td>2</td>\n",
       "      <td>817</td>\n",
       "      <td>4</td>\n",
       "      <td>192</td>\n",
       "      <td>0.030534</td>\n",
       "      <td>1.465649</td>\n",
       "      <td>6.236641</td>\n",
       "      <td>12678000</td>\n",
       "    </tr>\n",
       "    <tr>\n",
       "      <th>1</th>\n",
       "      <td>2020</td>\n",
       "      <td>3</td>\n",
       "      <td>47609</td>\n",
       "      <td>475</td>\n",
       "      <td>-189</td>\n",
       "      <td>3.625954</td>\n",
       "      <td>-1.442748</td>\n",
       "      <td>363.427481</td>\n",
       "      <td>12678000</td>\n",
       "    </tr>\n",
       "    <tr>\n",
       "      <th>2</th>\n",
       "      <td>2020</td>\n",
       "      <td>4</td>\n",
       "      <td>125071</td>\n",
       "      <td>1775</td>\n",
       "      <td>1904</td>\n",
       "      <td>13.549618</td>\n",
       "      <td>14.534351</td>\n",
       "      <td>954.740458</td>\n",
       "      <td>12678000</td>\n",
       "    </tr>\n",
       "    <tr>\n",
       "      <th>3</th>\n",
       "      <td>2020</td>\n",
       "      <td>5</td>\n",
       "      <td>46574</td>\n",
       "      <td>1484</td>\n",
       "      <td>5865</td>\n",
       "      <td>11.328244</td>\n",
       "      <td>44.770992</td>\n",
       "      <td>355.526718</td>\n",
       "      <td>12678000</td>\n",
       "    </tr>\n",
       "    <tr>\n",
       "      <th>4</th>\n",
       "      <td>2020</td>\n",
       "      <td>6</td>\n",
       "      <td>19244</td>\n",
       "      <td>683</td>\n",
       "      <td>3894</td>\n",
       "      <td>5.213740</td>\n",
       "      <td>29.725191</td>\n",
       "      <td>146.900763</td>\n",
       "      <td>12678000</td>\n",
       "    </tr>\n",
       "  </tbody>\n",
       "</table>\n",
       "</div>"
      ],
      "text/plain": [
       "   year  month   cases  death  calculated_death  officcial_death_per_100k  \\\n",
       "0  2020      2     817      4               192                  0.030534   \n",
       "1  2020      3   47609    475              -189                  3.625954   \n",
       "2  2020      4  125071   1775              1904                 13.549618   \n",
       "3  2020      5   46574   1484              5865                 11.328244   \n",
       "4  2020      6   19244    683              3894                  5.213740   \n",
       "\n",
       "   calculated_death_per_100k  cases_per_100k  population  \n",
       "0                   1.465649        6.236641    12678000  \n",
       "1                  -1.442748      363.427481    12678000  \n",
       "2                  14.534351      954.740458    12678000  \n",
       "3                  44.770992      355.526718    12678000  \n",
       "4                  29.725191      146.900763    12678000  "
      ]
     },
     "execution_count": 48,
     "metadata": {},
     "output_type": "execute_result"
    }
   ],
   "source": [
    "moscow['population'] = moscow.apply(population, axis=1)\n",
    "moscow.head(5)"
   ]
  },
  {
   "cell_type": "code",
   "execution_count": 84,
   "id": "136b9f1a-01d1-4686-9f49-6404144079e4",
   "metadata": {},
   "outputs": [],
   "source": [
    "moscow_death_total = pd.read_excel('moscow_data.xlsx')\n",
    "moscow_death_total[['Январь', 'Февраль', 'Март', 'Апрель', 'Май', 'Июнь', 'Июль', 'Август', 'Сентябрь', 'Октябрь', 'Ноябрь ', 'Декабрь']] = moscow_death_total[['Январь', 'Февраль', 'Март', 'Апрель', 'Май', 'Июнь', 'Июль', 'Август', 'Сентябрь', 'Октябрь', 'Ноябрь ', 'Декабрь']].astype('float64')\n",
    "moscow_death_total.columns = ['year', 'jan', 'feb', 'mar', 'apr', 'may', 'jun', 'jul', 'aug', 'sep', 'oct', 'nov', 'dec']"
   ]
  },
  {
   "cell_type": "code",
   "execution_count": 87,
   "id": "1c92f1b8-e984-4e0a-8967-4faf55f455a5",
   "metadata": {},
   "outputs": [],
   "source": [
    "pre_covid_moscow_death = moscow_death_total[~moscow_death_total['year'].isin([2020, 2021, 2022, 2023, 2024])]\n",
    "covid_moscow_death = moscow_death_total[moscow_death_total['year'].isin([2020, 2021, 2022])]"
   ]
  },
  {
   "cell_type": "code",
   "execution_count": 89,
   "id": "87139ab1-a528-4034-9b09-d55ad5e2cd1f",
   "metadata": {},
   "outputs": [
    {
     "data": {
      "text/html": [
       "<div>\n",
       "<style scoped>\n",
       "    .dataframe tbody tr th:only-of-type {\n",
       "        vertical-align: middle;\n",
       "    }\n",
       "\n",
       "    .dataframe tbody tr th {\n",
       "        vertical-align: top;\n",
       "    }\n",
       "\n",
       "    .dataframe thead th {\n",
       "        text-align: right;\n",
       "    }\n",
       "</style>\n",
       "<table border=\"1\" class=\"dataframe\">\n",
       "  <thead>\n",
       "    <tr style=\"text-align: right;\">\n",
       "      <th></th>\n",
       "      <th>year</th>\n",
       "      <th>jan</th>\n",
       "      <th>feb</th>\n",
       "      <th>mar</th>\n",
       "      <th>apr</th>\n",
       "      <th>may</th>\n",
       "      <th>jun</th>\n",
       "      <th>jul</th>\n",
       "      <th>aug</th>\n",
       "      <th>sep</th>\n",
       "      <th>oct</th>\n",
       "      <th>nov</th>\n",
       "      <th>dec</th>\n",
       "    </tr>\n",
       "  </thead>\n",
       "  <tbody>\n",
       "    <tr>\n",
       "      <th>14</th>\n",
       "      <td>2020</td>\n",
       "      <td>10913.0</td>\n",
       "      <td>9864.0</td>\n",
       "      <td>10223.0</td>\n",
       "      <td>11834.0</td>\n",
       "      <td>15713.0</td>\n",
       "      <td>13126.0</td>\n",
       "      <td>10771.0</td>\n",
       "      <td>10972.0</td>\n",
       "      <td>11153.0</td>\n",
       "      <td>13710.0</td>\n",
       "      <td>14456.0</td>\n",
       "      <td>16546.0</td>\n",
       "    </tr>\n",
       "    <tr>\n",
       "      <th>15</th>\n",
       "      <td>2021</td>\n",
       "      <td>16347.0</td>\n",
       "      <td>12658.0</td>\n",
       "      <td>13213.0</td>\n",
       "      <td>12803.0</td>\n",
       "      <td>13705.0</td>\n",
       "      <td>16406.0</td>\n",
       "      <td>17334.0</td>\n",
       "      <td>12753.0</td>\n",
       "      <td>11855.0</td>\n",
       "      <td>14727.0</td>\n",
       "      <td>16553.0</td>\n",
       "      <td>14481.0</td>\n",
       "    </tr>\n",
       "    <tr>\n",
       "      <th>16</th>\n",
       "      <td>2022</td>\n",
       "      <td>14376.0</td>\n",
       "      <td>14496.0</td>\n",
       "      <td>11551.0</td>\n",
       "      <td>9144.0</td>\n",
       "      <td>9345.0</td>\n",
       "      <td>8914.0</td>\n",
       "      <td>8384.0</td>\n",
       "      <td>9755.0</td>\n",
       "      <td>10008.0</td>\n",
       "      <td>9703.0</td>\n",
       "      <td>10008.0</td>\n",
       "      <td>11304.0</td>\n",
       "    </tr>\n",
       "  </tbody>\n",
       "</table>\n",
       "</div>"
      ],
      "text/plain": [
       "    year      jan      feb      mar      apr      may      jun      jul  \\\n",
       "14  2020  10913.0   9864.0  10223.0  11834.0  15713.0  13126.0  10771.0   \n",
       "15  2021  16347.0  12658.0  13213.0  12803.0  13705.0  16406.0  17334.0   \n",
       "16  2022  14376.0  14496.0  11551.0   9144.0   9345.0   8914.0   8384.0   \n",
       "\n",
       "        aug      sep      oct      nov      dec  \n",
       "14  10972.0  11153.0  13710.0  14456.0  16546.0  \n",
       "15  12753.0  11855.0  14727.0  16553.0  14481.0  \n",
       "16   9755.0  10008.0   9703.0  10008.0  11304.0  "
      ]
     },
     "execution_count": 89,
     "metadata": {},
     "output_type": "execute_result"
    }
   ],
   "source": [
    "covid_moscow_death"
   ]
  },
  {
   "cell_type": "code",
   "execution_count": 94,
   "id": "25ccfa2a-d891-4ebf-bb44-0955a7e74d13",
   "metadata": {},
   "outputs": [],
   "source": [
    "def shapiro_calculations(df):\n",
    "    for month in df.columns:\n",
    "        if month == 'year':\n",
    "            continue\n",
    "        stat, pval = shapiro(df[month])\n",
    "        if pval > 0.05: \n",
    "            print(month)\n",
    "            print('Данные распредлены нормально')\n",
    "            print(f'Statistic: {stat:.5f}, pval: {pval:.5f}')\n",
    "            print('-'*10)\n",
    "        else:\n",
    "            print(month)\n",
    "            print('Данныке НЕ распределены нормально')\n",
    "            print(f'Statistic: {stat:.5f}, pval: {pval:.5f}')\n",
    "            print('-'*10)"
   ]
  },
  {
   "cell_type": "code",
   "execution_count": 95,
   "id": "137a6bfa-40de-47b4-aeaf-7258a94ddfd1",
   "metadata": {},
   "outputs": [
    {
     "name": "stdout",
     "output_type": "stream",
     "text": [
      "jan\n",
      "Данные распредлены нормально\n",
      "Statistic: 0.89295, pval: 0.08915\n",
      "----------\n",
      "feb\n",
      "Данные распредлены нормально\n",
      "Statistic: 0.90333, pval: 0.12609\n",
      "----------\n",
      "mar\n",
      "Данные распредлены нормально\n",
      "Statistic: 0.87744, pval: 0.05344\n",
      "----------\n",
      "apr\n",
      "Данные распредлены нормально\n",
      "Statistic: 0.93719, pval: 0.38355\n",
      "----------\n",
      "may\n",
      "Данные распредлены нормально\n",
      "Statistic: 0.91146, pval: 0.16549\n",
      "----------\n",
      "jun\n",
      "Данные распредлены нормально\n",
      "Statistic: 0.96778, pval: 0.84562\n",
      "----------\n",
      "jul\n",
      "Данныке НЕ распределены нормально\n",
      "Statistic: 0.48837, pval: 0.00000\n",
      "----------\n",
      "aug\n",
      "Данныке НЕ распределены нормально\n",
      "Statistic: 0.52567, pval: 0.00001\n",
      "----------\n",
      "sep\n",
      "Данные распредлены нормально\n",
      "Statistic: 0.91081, pval: 0.16189\n",
      "----------\n",
      "oct\n",
      "Данные распредлены нормально\n",
      "Statistic: 0.88911, pval: 0.07849\n",
      "----------\n",
      "nov\n",
      "Данные распредлены нормально\n",
      "Statistic: 0.97619, pval: 0.94664\n",
      "----------\n",
      "dec\n",
      "Данные распредлены нормально\n",
      "Statistic: 0.88495, pval: 0.06838\n",
      "----------\n"
     ]
    }
   ],
   "source": [
    "shapiro_calculations(pre_covid_moscow_death)"
   ]
  },
  {
   "cell_type": "code",
   "execution_count": 97,
   "id": "91d21767-62e3-487d-b166-300273d89d69",
   "metadata": {},
   "outputs": [
    {
     "data": {
      "text/plain": [
       "<AxesSubplot:xlabel='jul', ylabel='Density'>"
      ]
     },
     "execution_count": 97,
     "metadata": {},
     "output_type": "execute_result"
    },
    {
     "data": {
      "image/png": "[encoded data removed]",
      "text/plain": [
       "<Figure size 432x288 with 1 Axes>"
      ]
     },
     "metadata": {
      "needs_background": "light"
     },
     "output_type": "display_data"
    }
   ],
   "source": [
    "sns.kdeplot(pre_covid_moscow_death['jul'])\n",
    "sns.kdeplot(pre_covid_moscow_death['aug'])"
   ]
  },
  {
   "cell_type": "code",
   "execution_count": 103,
   "id": "aa711b9a-5dbd-4e48-bc11-275dbdfc0f0a",
   "metadata": {},
   "outputs": [
    {
     "data": {
      "text/plain": [
       "3      8905.0\n",
       "8      9054.0\n",
       "6      9184.0\n",
       "7      9261.0\n",
       "2      9472.0\n",
       "5      9476.0\n",
       "9      9476.0\n",
       "13     9602.0\n",
       "11     9618.0\n",
       "12     9653.0\n",
       "10    10034.0\n",
       "0     10071.0\n",
       "1     10098.0\n",
       "4     15016.0\n",
       "Name: aug, dtype: float64"
      ]
     },
     "execution_count": 103,
     "metadata": {},
     "output_type": "execute_result"
    }
   ],
   "source": [
    "pre_covid_moscow_death['aug'].sort_values()"
   ]
  },
  {
   "cell_type": "code",
   "execution_count": 109,
   "id": "66d28068-6d5f-47d6-bf85-93010b21b05f",
   "metadata": {},
   "outputs": [],
   "source": [
    "test = pre_covid_moscow_death['aug']"
   ]
  },
  {
   "cell_type": "code",
   "execution_count": null,
   "id": "0741cc6e-1660-42ea-ab4d-30cb71b141f0",
   "metadata": {},
   "outputs": [],
   "source": []
  },
  {
   "cell_type": "code",
   "execution_count": 128,
   "id": "ba9db333-bad1-48db-8017-5e551901858b",
   "metadata": {},
   "outputs": [],
   "source": [
    "pre_covid_outlers_list = {}\n",
    "\n",
    "for month in pre_covid_moscow_death.columns:\n",
    "    if month == 'year':\n",
    "        continue\n",
    "    \n",
    "    iqr = pre_covid_moscow_death[month].quantile(0.75) - pre_covid_moscow_death[month].quantile(0.25)\n",
    "    upper_bound = pre_covid_moscow_death[month].quantile(0.75) + 1.5 * iqr\n",
    "    lower_bound = pre_covid_moscow_death[month].quantile(0.25) - 1.5 * iqr\n",
    "    outlers = [x for x in pre_covid_moscow_death[month] if x > upper_bound or x < lower_bound] \n",
    "    \n",
    "    pre_covid_outlers_list[month] = outlers"
   ]
  },
  {
   "cell_type": "code",
   "execution_count": 129,
   "id": "89d0ad1f-4002-43f3-a870-1fcadb5cd865",
   "metadata": {},
   "outputs": [],
   "source": [
    "covid_outlers_list = {}\n",
    "\n",
    "for month in covid_moscow_death.columns:\n",
    "    if month == 'year':\n",
    "        continue\n",
    "    \n",
    "    iqr = pre_covid_moscow_death[month].quantile(0.75) - pre_covid_moscow_death[month].quantile(0.25)\n",
    "    upper_bound = pre_covid_moscow_death[month].quantile(0.75) + 1.5 * iqr\n",
    "    lower_bound = pre_covid_moscow_death[month].quantile(0.25) - 1.5 * iqr\n",
    "    outlers = [x for x in pre_covid_moscow_death[month] if x > upper_bound or x < lower_bound] \n",
    "    \n",
    "    covid_outlers_list[month] = outlers"
   ]
  },
  {
   "cell_type": "code",
   "execution_count": 130,
   "id": "db264225-5ad8-401b-a16f-1ffa9ea5f6ae",
   "metadata": {},
   "outputs": [
    {
     "name": "stdout",
     "output_type": "stream",
     "text": [
      "{'jan': [], 'feb': [], 'mar': [], 'apr': [], 'may': [], 'jun': [], 'jul': [10062.0, 14340.0, 10057.0], 'aug': [12557.0], 'sep': [], 'oct': [9350.0, 9830.0], 'nov': [10627.0], 'dec': [12080.0]}\n",
      "{'jan': [], 'feb': [], 'mar': [], 'apr': [], 'may': [], 'jun': [], 'jul': [10062.0, 14340.0, 10057.0], 'aug': [12557.0], 'sep': [], 'oct': [9350.0, 9830.0], 'nov': [10627.0], 'dec': [12080.0]}\n"
     ]
    }
   ],
   "source": []
  },
  {
   "cell_type": "code",
   "execution_count": 113,
   "id": "bbf5f211-ccfb-41b3-8cf4-13bfd9e569d1",
   "metadata": {},
   "outputs": [
    {
     "data": {
      "text/plain": [
       "0     10071.0\n",
       "1     10098.0\n",
       "2      9472.0\n",
       "3      8905.0\n",
       "4     12557.0\n",
       "5      9476.0\n",
       "6      9184.0\n",
       "7      9261.0\n",
       "8      9054.0\n",
       "9      9476.0\n",
       "10    10034.0\n",
       "11     9618.0\n",
       "12     9653.0\n",
       "13     9602.0\n",
       "Name: aug, dtype: float64"
      ]
     },
     "execution_count": 113,
     "metadata": {},
     "output_type": "execute_result"
    }
   ],
   "source": [
    "test"
   ]
  }
 ],
 "metadata": {
  "kernelspec": {
   "display_name": "Python 3 (ipykernel)",
   "language": "python",
   "name": "python3"
  },
  "language_info": {
   "codemirror_mode": {
    "name": "ipython",
    "version": 3
   },
   "file_extension": ".py",
   "mimetype": "text/x-python",
   "name": "python",
   "nbconvert_exporter": "python",
   "pygments_lexer": "ipython3",
   "version": "3.9.7"
  }
 },
 "nbformat": 4,
 "nbformat_minor": 5
}
